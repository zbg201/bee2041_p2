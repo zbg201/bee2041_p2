{
 "cells": [
  {
   "cell_type": "code",
   "execution_count": null,
   "metadata": {},
   "outputs": [],
   "source": [
    "https://github.com/zbg201/bee2041_p1"
   ]
  },
  {
   "cell_type": "markdown",
   "metadata": {},
   "source": [
    "This document is adapted from a lab prepared by Alex Rutherford, with permission"
   ]
  },
  {
   "cell_type": "code",
   "execution_count": 1,
   "metadata": {},
   "outputs": [],
   "source": [
    "%matplotlib inline\n",
    "import matplotlib.pyplot as plt\n",
    "import networkx as nx\n",
    "import random as rd\n",
    "import numpy as np"
   ]
  },
  {
   "cell_type": "markdown",
   "metadata": {},
   "source": [
    "# Setup"
   ]
  },
  {
   "cell_type": "markdown",
   "metadata": {},
   "source": [
    "In this part we are going to code our own simulation using python. What we are going to model the spread of a virus over a network of agents (e.g. people or computers). Read carefully this section, you'll not be asked to do anything, your only duty is to understand what we are going to do.\n",
    "\n",
    "First step is to model the problem, and in the case of multi-agent systems this means to give agent characteristics and capacities of interaction. For viral infection it is obvious that the only thing that matters is to know whether agent is infected, and how infection propagates. The infection status of an agent will be modeled by a state variable. Our model choice for infection will be that the infection spreads through links between agents (e.g. social links or communication links) with a given probability. As a consequence, the obvious representation for our simulation is a graph.\n",
    "\n",
    "Second step is to implement this model in a programing language, and more specifically within the class in Python. The natural python representation for our model is a networkx graph whose nodes represent the agent and to which additional information regarding the state will be attached. Fortunately there is a very simple way of handling information attached to nodes in networkx: You access attributes through the node field of a graph object, for instance to add a label called first name to the node 0 of graph g with the value Jean, you would write:"
   ]
  },
  {
   "cell_type": "code",
   "execution_count": 2,
   "metadata": {},
   "outputs": [],
   "source": [
    "g = nx.Graph()\n",
    "g.add_node(0)\n",
    "g.nodes[0]['first name'] = \"Jean\""
   ]
  },
  {
   "cell_type": "markdown",
   "metadata": {},
   "source": [
    "And to access to the value, you would write:"
   ]
  },
  {
   "cell_type": "code",
   "execution_count": 3,
   "metadata": {},
   "outputs": [
    {
     "name": "stdout",
     "output_type": "stream",
     "text": [
      "Jean\n"
     ]
    }
   ],
   "source": [
    "print(g.nodes[0]['first name'])"
   ]
  },
  {
   "cell_type": "markdown",
   "metadata": {},
   "source": [
    "Another crucial thing to learn is how probabilities materialise in the simulation. When we use an infection rate of 0.2, this means two infections out of 10 attempts. We will simulate this by generating a random number between 0 and 1, and then checking if this number is less than 0.2. For example, try to run the following cell 10 times and see if you get a \"Yes\" about 2 times (it's not gonna be exactly two times, perhaps once or three times):"
   ]
  },
  {
   "cell_type": "code",
   "execution_count": 4,
   "metadata": {},
   "outputs": [
    {
     "name": "stdout",
     "output_type": "stream",
     "text": [
      "Yes\n"
     ]
    }
   ],
   "source": [
    "if rd.random() < 0.2:\n",
    "    print(\"Yes\")\n",
    "else:\n",
    "    print(\"No\")"
   ]
  },
  {
   "cell_type": "markdown",
   "metadata": {},
   "source": [
    "Now look at the code below. The state of an agent is stored under the label `state`. Different values of the states are represented as integers. However for conveniance we give names to these integers: `agSusceptible`, `agInfected`\n",
    "and `agRecovered`. A susceptible agent can be infected if he never got the virus, a recovered agent can not get the virus again.\n",
    "\n",
    "The dynamic of the system is also a bit more complex than what we previously exposed: an infection can start with a given probability on any given node for any given link, recovery can stop with a given probability.\n",
    "\n",
    "Simulation proceeds in clear steps, enclosed within the step function. This function loops over all the agents and update their state based on the dynamic of the system. Please note that the state of the agents are not updated on the current graph, but on a new graph representing the next state of the system. This new state is substituted at the end of the step to become the new current state of the system. This technique is important as it allows a synchronous update of the state of all the agents."
   ]
  },
  {
   "cell_type": "code",
   "execution_count": 5,
   "metadata": {},
   "outputs": [],
   "source": [
    "# simulation parameters"
   ]
  },
  {
   "cell_type": "code",
   "execution_count": 6,
   "metadata": {},
   "outputs": [],
   "source": [
    "# model parameters\n",
    "\n",
    "## infection\n",
    "\n",
    "probInfection = 0.2\n",
    "probRecovery = 0.2\n",
    "probInfectionResidual = 0.0\n",
    "\n",
    "randomInitialInfection=True"
   ]
  },
  {
   "cell_type": "code",
   "execution_count": 7,
   "metadata": {},
   "outputs": [],
   "source": [
    "## communication structure\n",
    "\n",
    "\n",
    "# model states\n",
    "\n",
    "systemState = None\n",
    "nextSystemState = None\n",
    "\n",
    "agSusceptible = 0\n",
    "agInfected = 1\n",
    "agRecovered = 2"
   ]
  },
  {
   "cell_type": "code",
   "execution_count": 8,
   "metadata": {},
   "outputs": [],
   "source": [
    "# helper functions\n",
    "def test_state(n,value):\n",
    "    global systemState\n",
    "    return systemState.nodes[n]['state'] == value"
   ]
  },
  {
   "cell_type": "code",
   "execution_count": 9,
   "metadata": {},
   "outputs": [],
   "source": [
    "# model dynamics\n",
    "def init(network, nba, netParam, probInfectionInit):\n",
    "    global systemState\n",
    "    \n",
    "    # generate communication strucure\n",
    "    systemState = network(nba, netParam)\n",
    "\n",
    "    # init agents' states\n",
    "    if randomInitialInfection:\n",
    "        # random infection\n",
    "        for a in systemState.nodes():\n",
    "            if rd.random() < probInfectionInit:\n",
    "                systemState.nodes[a]['state'] = agInfected\n",
    "            else:\n",
    "                systemState.nodes[a]['state'] = agSusceptible"
   ]
  },
  {
   "cell_type": "code",
   "execution_count": 10,
   "metadata": {},
   "outputs": [],
   "source": [
    "def step():\n",
    "    global systemState\n",
    "\n",
    "    # copy current network structure and agent s'states\n",
    "    nextSystemState = systemState.copy()\n",
    "\n",
    "    # determine next agents' state\n",
    "    for a in systemState.nodes():\n",
    "        # if infected\n",
    "        if test_state(a,agInfected):\n",
    "            # first try to recover\n",
    "            if rd.random() < probRecovery:\n",
    "                nextSystemState.nodes[a]['state'] = agRecovered\n",
    "            # if not try to propagage virus\n",
    "            else:\n",
    "                for n in systemState.neighbors(a):\n",
    "                    # if recovered, do nothing\n",
    "                    if test_state(n,agRecovered):\n",
    "                        pass\n",
    "                    # otherwise try to infect\n",
    "                    elif test_state(n,agSusceptible):\n",
    "                        if rd.random() < probInfection:\n",
    "                            nextSystemState.nodes[n]['state'] = agInfected\n",
    "    systemState = nextSystemState"
   ]
  },
  {
   "cell_type": "code",
   "execution_count": 11,
   "metadata": {},
   "outputs": [],
   "source": [
    "def collect_statistics():\n",
    "    global systemState\n",
    "\n",
    "    nbS = 0\n",
    "    nbI = 0\n",
    "    nbR = 0\n",
    "    nbM = 0\n",
    "    for a in systemState.nodes():\n",
    "        if test_state(a,agSusceptible):\n",
    "            nbS = nbS + 1\n",
    "        if test_state(a,agInfected):\n",
    "            nbI = nbI + 1\n",
    "        if test_state(a,agRecovered):\n",
    "            nbR = nbR + 1\n",
    "    return nbS, nbI"
   ]
  },
  {
   "cell_type": "code",
   "execution_count": 12,
   "metadata": {},
   "outputs": [],
   "source": [
    "def display_statistics(x, er, ba, xlabel):\n",
    "    plt.xscale('log')\n",
    "    plt.xlabel(xlabel)\n",
    "    plt.ylabel('Percentage of Infected Agents')\n",
    "    plt.plot(x, er ,label=\"Erdos-Renyi\",marker='o', color=\"r\")\n",
    "    plt.plot(x, ba ,label=\"Barabasi Albert\",marker='o', color=\"b\")\n",
    "    #plt.plot(statI,label=\"I\", color=\"r\")\n",
    "    #plt.plot(statR,label=\"R\", color=\"g\")\n",
    "\n",
    "    plt.legend()\n",
    "    plt.show()"
   ]
  },
  {
   "cell_type": "code",
   "execution_count": 13,
   "metadata": {},
   "outputs": [],
   "source": [
    "def draw():\n",
    "    global systemState\n",
    "\n",
    "    list_colors = []\n",
    "    for a in systemState.nodes():\n",
    "        if test_state(a,agSusceptible):\n",
    "            list_colors.append(\"b\")\n",
    "        if test_state(a,agInfected):\n",
    "            list_colors.append(\"r\")\n",
    "        if test_state(a,agRecovered):\n",
    "            list_colors.append(\"g\")\n",
    "\n",
    "    nx.draw(systemState, node_color = list_colors)\n",
    "    plt.show()"
   ]
  },
  {
   "cell_type": "code",
   "execution_count": 14,
   "metadata": {},
   "outputs": [
    {
     "name": "stdout",
     "output_type": "stream",
     "text": [
      "processing ER...\n",
      "processing BA...\n"
     ]
    },
    {
     "data": {
      "image/png": "[encoded data removed]",
      "text/plain": [
       "<Figure size 432x288 with 1 Axes>"
      ]
     },
     "metadata": {
      "needs_background": "light"
     },
     "output_type": "display_data"
    },
    {
     "name": "stdout",
     "output_type": "stream",
     "text": [
      "processing ER...\n",
      "processing BA...\n"
     ]
    },
    {
     "data": {
      "image/png": "[encoded data removed]",
      "text/plain": [
       "<Figure size 432x288 with 1 Axes>"
      ]
     },
     "metadata": {
      "needs_background": "light"
     },
     "output_type": "display_data"
    },
    {
     "name": "stdout",
     "output_type": "stream",
     "text": [
      "processing ER...\n",
      "processing BA...\n"
     ]
    },
    {
     "data": {
      "image/png": "[encoded data removed]",
      "text/plain": [
       "<Figure size 432x288 with 1 Axes>"
      ]
     },
     "metadata": {
      "needs_background": "light"
     },
     "output_type": "display_data"
    }
   ],
   "source": [
    "def run_simulation(nba, maxIter, probI, probR, probI_init, network, netParam, rep):\n",
    "    global probInfection\n",
    "    global probRecovery\n",
    "    probInfection = probI\n",
    "    probRecovery = probR\n",
    "    totalStatS = 0\n",
    "    for x in range(0, rep):\n",
    "        init(network, nba, netParam, probI_init)\n",
    "        statS = []\n",
    "        i = 0\n",
    "        while i < maxIter:\n",
    "            step()\n",
    "            nbS, nbI = collect_statistics()\n",
    "            statS.append(nbS)\n",
    "            if nbI == 0:\n",
    "                break\n",
    "            i = i + 1\n",
    "        totalStatS += statS[-1]   \n",
    "    perOfInfectedAgents = (nba - totalStatS / rep) / nba * 100\n",
    "    return perOfInfectedAgents\n",
    "\n",
    "if __name__ == \"__main__\":\n",
    "    x = np.logspace(-3,0,12)\n",
    "    er = []\n",
    "    ba = []\n",
    "    print(\"processing ER...\")\n",
    "    for i in x:\n",
    "        perOfInfectedAgents = run_simulation(500, 10, i, .2, .1, nx.erdos_renyi_graph, .1, 10)\n",
    "        er.append(perOfInfectedAgents)\n",
    "        #print(\"Probability of Infection:\", i, \" | Percentage of Infected Agents:\", perOfInfectedAgents)\n",
    "    print(\"processing BA...\")\n",
    "    for i in x:\n",
    "        perOfInfectedAgents = run_simulation(500, 10, i, .2, .1, nx.barabasi_albert_graph, 2, 10)\n",
    "        ba.append(perOfInfectedAgents)\n",
    "        #print(\"Probability of Infection:\", i, \" | Percentage of Infected Agents:\", perOfInfectedAgents)\n",
    "    display_statistics(x, er, ba, 'Probability of Infection')\n",
    "    \n",
    "    er = []\n",
    "    ba = []\n",
    "    print(\"processing ER...\")\n",
    "    for i in x:\n",
    "        perOfInfectedAgents = run_simulation(500, 10, .2, .2, i, nx.erdos_renyi_graph, .1, 20)\n",
    "        er.append(perOfInfectedAgents)\n",
    "        #print(\"Probability of Infection:\", i, \" | Percentage of Infected Agents:\", perOfInfectedAgents)\n",
    "    print(\"processing BA...\")\n",
    "    for i in x:\n",
    "        perOfInfectedAgents = run_simulation(500, 10, .2, .2, i, nx.barabasi_albert_graph, 2, 20)\n",
    "        ba.append(perOfInfectedAgents)\n",
    "        #print(\"Probability of Infection:\", i, \" | Percentage of Infected Agents:\", perOfInfectedAgents)\n",
    "    display_statistics(x, er, ba, 'Probability of Infection')\n",
    "    \n",
    "    x = np.arange(100,1100,100)\n",
    "    er = []\n",
    "    ba = []\n",
    "    print(\"processing ER...\")\n",
    "    for i in x:\n",
    "        perOfInfectedAgents = run_simulation(i, 10, .01, .2, .1, nx.erdos_renyi_graph, .1, 10)\n",
    "        er.append(perOfInfectedAgents)\n",
    "        #print(\"Number of agents:\", i, \" | Percentage of Infected Agents:\", perOfInfectedAgents)\n",
    "    print(\"processing BA...\")\n",
    "    for i in x:\n",
    "        perOfInfectedAgents = run_simulation(i, 10, .01, .2, .1, nx.barabasi_albert_graph, 2, 10)\n",
    "        ba.append(perOfInfectedAgents)\n",
    "        #print(\"Number of agents:\", i, \"| Percentage of Infected Agents:\", perOfInfectedAgents)\n",
    "    display_statistics(x, er, ba, 'Number of Agents')"
   ]
  },
  {
   "cell_type": "code",
   "execution_count": null,
   "metadata": {},
   "outputs": [],
   "source": []
  },
  {
   "cell_type": "code",
   "execution_count": null,
   "metadata": {},
   "outputs": [],
   "source": []
  }
 ],
 "metadata": {
  "kernelspec": {
   "display_name": "Python 3",
   "language": "python",
   "name": "python3"
  },
  "language_info": {
   "codemirror_mode": {
    "name": "ipython",
    "version": 3
   },
   "file_extension": ".py",
   "mimetype": "text/x-python",
   "name": "python",
   "nbconvert_exporter": "python",
   "pygments_lexer": "ipython3",
   "version": "3.8.8"
  }
 },
 "nbformat": 4,
 "nbformat_minor": 2
}
